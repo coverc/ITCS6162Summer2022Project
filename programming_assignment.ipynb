{
 "cells": [
  {
   "cell_type": "markdown",
   "metadata": {
    "collapsed": false,
    "pycharm": {
     "name": "#%% md\n"
    }
   },
   "source": [
    "# DSBA/ITCS/ITIS 6162 - Programming Assignment\n",
    "\n",
    "### Name:\n",
    "\n",
    "### Submission instructions\n",
    "\n",
    "- Enter your name in the space above.\n",
    "- Save your completed notebook as *dsba6162_**\\<uncc username>**.ipynb*.\n",
    "- Upload **both** the **ipynb** file and the **html** version of your completed notebook to Canvas.\n",
    "\n",
    "You can download the notebook in html format by:\n",
    "- In browser, going to *File --> Download as --> HTML*.\n",
    "- In VSCode, expanding the '...' in the ribbon menu at the top of the file editor. *Export --> HTML*.\n",
    "\n",
    "***\n",
    "## Dataset\n",
    "\n",
    "The dataset for this assignment consists of all tweets between 01/01/2022 and 06/30/2022 containing any of the following keywords (case insensitive):\n",
    "- uncc\n",
    "- unccharlotte\n",
    "- unc charlotte\n",
    "- ninernation\n",
    "- niner nation\n",
    "\n",
    "Stored in *uncc_tweets.csv*.\n",
    "\n",
    "And the associated user interaction network derived from retweets, mentions, and references between users in the tweets.\n",
    "\n",
    "Stored as an edgelist in *uncc_graph.edgelist*.\n",
    "\n",
    "***\n",
    "\n",
    "# Section I. Topic Modeling on Texts using Latent Semantic Analysis (90 pts)\n",
    "*TF-IDF, SVD, Normalization, and K-means Clustering*\n",
    "\n",
    "In this section, you will try to discover a set of topics discussed in a dataset of tweets.\n",
    "\n",
    "For this task, you will use the *pandas* and *scikit-learn* packages to generate the TF-IDF matrix representing your dataset of texts. You will then apply TruncatedSVD to discover latent concepts in the data and reduce the dimensionality of the data matrix. Finally, you will use K-means clustering to group terms into clusters (topics)."
   ]
  },
  {
   "cell_type": "markdown",
   "metadata": {
    "collapsed": false,
    "pycharm": {
     "name": "#%% md\n"
    }
   },
   "source": [
    "## Part 1 - Load Data and Exploratory Data Analysis (EDA) (20 pts)\n",
    "\n",
    "\n",
    "#### Part A - Read in tweets dataset\n",
    "\n",
    "Use the pandas library to read in the provided *uncc_tweets.csv* file.\n",
    "\n",
    "*Refer to the documentation of read_csv() if you're unsure*.\n",
    "\n",
    "- Make sure that the date column has the appropriate datatype (converted from string to datetime).\n",
    "- Make sure to check for and handle any missing values in the dataset."
   ]
  },
  {
   "cell_type": "code",
   "execution_count": 20,
   "metadata": {
    "collapsed": false,
    "pycharm": {
     "name": "#%%\n"
    }
   },
   "outputs": [
    {
     "data": {
      "text/html": [
       "<div>\n",
       "<style scoped>\n",
       "    .dataframe tbody tr th:only-of-type {\n",
       "        vertical-align: middle;\n",
       "    }\n",
       "\n",
       "    .dataframe tbody tr th {\n",
       "        vertical-align: top;\n",
       "    }\n",
       "\n",
       "    .dataframe thead th {\n",
       "        text-align: right;\n",
       "    }\n",
       "</style>\n",
       "<table border=\"1\" class=\"dataframe\">\n",
       "  <thead>\n",
       "    <tr style=\"text-align: right;\">\n",
       "      <th></th>\n",
       "      <th>text</th>\n",
       "      <th>date</th>\n",
       "    </tr>\n",
       "  </thead>\n",
       "  <tbody>\n",
       "    <tr>\n",
       "      <th>0</th>\n",
       "      <td>SamdGreat01 GeographyGIS Assistantships 1 2 3 4</td>\n",
       "      <td>2022-06-30 23:42:40</td>\n",
       "    </tr>\n",
       "    <tr>\n",
       "      <th>1</th>\n",
       "      <td>Megastarbasebal 2023 Charlotte Megastars Rotat...</td>\n",
       "      <td>2022-06-30 23:41:10</td>\n",
       "    </tr>\n",
       "    <tr>\n",
       "      <th>2</th>\n",
       "      <td>CKatziff Every student should have an equitabl...</td>\n",
       "      <td>2022-06-30 23:26:12</td>\n",
       "    </tr>\n",
       "    <tr>\n",
       "      <th>3</th>\n",
       "      <td>I’ve never walked this much outside of when I ...</td>\n",
       "      <td>2022-06-30 23:20:45</td>\n",
       "    </tr>\n",
       "    <tr>\n",
       "      <th>4</th>\n",
       "      <td>SamdGreat01 GeographyGIS Assistantships 1 2 3 4</td>\n",
       "      <td>2022-06-30 23:03:33</td>\n",
       "    </tr>\n",
       "    <tr>\n",
       "      <th>5</th>\n",
       "      <td>Forecast tomorrow July 1 2022 Scattered Thunde...</td>\n",
       "      <td>2022-06-30 23:01:56</td>\n",
       "    </tr>\n",
       "    <tr>\n",
       "      <th>6</th>\n",
       "      <td>Megastarbasebal 2023 Charlotte Megastars Rotat...</td>\n",
       "      <td>2022-06-30 23:00:35</td>\n",
       "    </tr>\n",
       "    <tr>\n",
       "      <th>7</th>\n",
       "      <td>ToscaAusten Winback24 gatewaypundit North Caro...</td>\n",
       "      <td>2022-06-30 22:52:35</td>\n",
       "    </tr>\n",
       "    <tr>\n",
       "      <th>8</th>\n",
       "      <td>Pac now 10 ACC merger Call it ‘THE COAST’ Coul...</td>\n",
       "      <td>2022-06-30 22:41:09</td>\n",
       "    </tr>\n",
       "    <tr>\n",
       "      <th>9</th>\n",
       "      <td>“It is one of only 79 programs in the country ...</td>\n",
       "      <td>2022-06-30 22:40:29</td>\n",
       "    </tr>\n",
       "  </tbody>\n",
       "</table>\n",
       "</div>"
      ],
      "text/plain": [
       "                                                text                date\n",
       "0    SamdGreat01 GeographyGIS Assistantships 1 2 3 4 2022-06-30 23:42:40\n",
       "1  Megastarbasebal 2023 Charlotte Megastars Rotat... 2022-06-30 23:41:10\n",
       "2  CKatziff Every student should have an equitabl... 2022-06-30 23:26:12\n",
       "3  I’ve never walked this much outside of when I ... 2022-06-30 23:20:45\n",
       "4    SamdGreat01 GeographyGIS Assistantships 1 2 3 4 2022-06-30 23:03:33\n",
       "5  Forecast tomorrow July 1 2022 Scattered Thunde... 2022-06-30 23:01:56\n",
       "6  Megastarbasebal 2023 Charlotte Megastars Rotat... 2022-06-30 23:00:35\n",
       "7  ToscaAusten Winback24 gatewaypundit North Caro... 2022-06-30 22:52:35\n",
       "8  Pac now 10 ACC merger Call it ‘THE COAST’ Coul... 2022-06-30 22:41:09\n",
       "9  “It is one of only 79 programs in the country ... 2022-06-30 22:40:29"
      ]
     },
     "execution_count": 20,
     "metadata": {},
     "output_type": "execute_result"
    }
   ],
   "source": [
    "import pandas as pd\n",
    "import matplotlib.pyplot as plt\n",
    "import numpy as np\n",
    "\n",
    "tweets = pd.read_csv(\n",
    "    \"uncc_tweets.csv\", header = 0,\n",
    "    parse_dates = ['date']\n",
    ")\n",
    "tweets.head(10)"
   ]
  },
  {
   "cell_type": "markdown",
   "metadata": {
    "collapsed": false,
    "pycharm": {
     "name": "#%% md\n"
    }
   },
   "source": [
    "#### Part B - Time series plot\n",
    "\n",
    "For this part, refer to the pandas *GroupBy* documentation if you are unsure.\n",
    "\n",
    "1. Group your tweets dataframe by the date.\n",
    "2. Get the size of each date \"group\" (i.e. the number of tweets posted each day).\n",
    "3. Plot the time series of the number of tweets per day. Make sure your plot has appropriate axis labels and title.\n",
    "\n",
    "*Look in the sklearn documentation for a groupby function that returns the size of each group.*"
   ]
  },
  {
   "cell_type": "code",
   "execution_count": 21,
   "metadata": {
    "collapsed": false,
    "pycharm": {
     "name": "#%%\n"
    }
   },
   "outputs": [],
   "source": [
    "TweetsGroupedByDates = tweets.groupby('date').size().sort_values(ascending = False)\n",
    "TweetsByDate = TweetsGroupedByDates.head(40)\n"
   ]
  },
  {
   "cell_type": "code",
   "execution_count": 22,
   "metadata": {},
   "outputs": [
    {
     "data": {
      "image/png": "[encoded data removed]",
      "text/plain": [
       "<Figure size 432x288 with 1 Axes>"
      ]
     },
     "metadata": {
      "needs_background": "light"
     },
     "output_type": "display_data"
    }
   ],
   "source": [
    "TweetsByDate.plot.bar(\n",
    "    title = \"Tweets per day about UNCC\"\n",
    ")\n",
    "plt.ylabel(\"Number of Tweets\")\n",
    "plt.show()"
   ]
  },
  {
   "cell_type": "markdown",
   "metadata": {},
   "source": [
    "**Question: What day had the maximal number of tweets mentioning UNCC?**"
   ]
  },
  {
   "cell_type": "code",
   "execution_count": 23,
   "metadata": {},
   "outputs": [
    {
     "name": "stdout",
     "output_type": "stream",
     "text": [
      "May 27, 2022 was the date with the most tweets mentioning UNCC\n"
     ]
    }
   ],
   "source": [
    "print(\"May 27, 2022 was the date with the most tweets mentioning UNCC\")"
   ]
  },
  {
   "cell_type": "markdown",
   "metadata": {
    "collapsed": false,
    "pycharm": {
     "name": "#%% md\n"
    }
   },
   "source": [
    "## Part 2 - TF-IDF Matrix (10 pts)\n",
    "\n",
    "Create the initial TF-IDF matrix representation of our text dataset.\n",
    "\n",
    "**Required minimum preprocessing:**\n",
    "- Lowercase all text\n",
    "- Remove stop words\n",
    "- Set a maximum number of terms to include\n",
    "\n",
    "**Additional preprocessing options:**\n",
    "- Remove punctuation\n",
    "- Lemmatize the text\n",
    "- Use a more expansive stop word list\n",
    "- Tune the minimum and maximum document frequencies\n",
    "\n",
    "Python NLP libraries like *spaCy* or *NLTK* can provide additional text preprocessing and lemmatization functions.\n",
    "\n",
    "*Refer to the scikit-learn documentation regarding initialization parameters*."
   ]
  },
  {
   "cell_type": "code",
   "execution_count": 24,
   "metadata": {
    "collapsed": false,
    "pycharm": {
     "name": "#%%\n"
    }
   },
   "outputs": [],
   "source": [
    "from sklearn.feature_extraction.text import TfidfVectorizer\n",
    "\n",
    "tfidf = TfidfVectorizer(\n",
    "    stop_words = 'english',\n",
    "    max_features=10000,\n",
    "    lowercase=True\n",
    ")"
   ]
  },
  {
   "cell_type": "code",
   "execution_count": 25,
   "metadata": {},
   "outputs": [],
   "source": [
    "tfidfMatrix = tfidf.fit_transform(tweets['text'].values.astype('U'))"
   ]
  },
  {
   "cell_type": "markdown",
   "metadata": {
    "collapsed": false,
    "pycharm": {
     "name": "#%% md\n"
    }
   },
   "source": [
    "**Question: How many documents and how many terms are represented in our TF-IDF matrix?**"
   ]
  },
  {
   "cell_type": "code",
   "execution_count": 26,
   "metadata": {
    "collapsed": false,
    "pycharm": {
     "name": "#%%\n"
    }
   },
   "outputs": [
    {
     "name": "stdout",
     "output_type": "stream",
     "text": [
      "(40048, 10000)\n"
     ]
    }
   ],
   "source": [
    "print(tfidfMatrix.shape)"
   ]
  },
  {
   "cell_type": "markdown",
   "metadata": {
    "collapsed": false,
    "pycharm": {
     "name": "#%% md\n"
    }
   },
   "source": [
    "## Part 3 - Latent Factor Discovery and Dimensionality Reduction (30 pts)\n",
    "\n",
    "Such a high dimensional matrix is not well-suited for clustering, and individual terms do not make for very informative features. Use sklearn's TruncatedSVD to discover informative latent factors in our data and reduce the dimensionality of the document matrix.\n",
    "\n",
    "#### Part A - Determine an appropriate number of components\n",
    "\n",
    "1. Compute the singular value decomposition of the TF-IDF matrix using a (relatively) high number of components.\n",
    "\n",
    "*Note: Higher numbers of components can take a much longer time to run. For reference, 500 components took ~30s on my computer.*\n",
    "\n",
    "*To save on some compute, you can use just .fit() for this instead of fit_transform() since we will not be using the transformed matrix from this step.*"
   ]
  },
  {
   "cell_type": "code",
   "execution_count": 27,
   "metadata": {
    "collapsed": false,
    "pycharm": {
     "name": "#%%\n"
    }
   },
   "outputs": [],
   "source": [
    "from sklearn.decomposition import TruncatedSVD\n",
    "\n",
    "components = 500\n",
    "\n",
    "svd = TruncatedSVD(n_components = components)"
   ]
  },
  {
   "cell_type": "code",
   "execution_count": 28,
   "metadata": {},
   "outputs": [],
   "source": [
    "tfidfMatrix_reduced = svd.fit(tfidfMatrix)"
   ]
  },
  {
   "cell_type": "markdown",
   "metadata": {
    "collapsed": false,
    "pycharm": {
     "name": "#%% md\n"
    }
   },
   "source": [
    "2. Plot **at least one** of the following quantities:\n",
    "    - Singular values\n",
    "    - Explained variance\n",
    "    - Explained variance ratio\n",
    "\n",
    "*Refer to the scikit-learn documentation for TruncatedSVD to see where to find these values.*\n",
    "\n",
    "**Question: What do you notice about the shape of the curve? In what other context have you seen a similar plot in this course?**"
   ]
  },
  {
   "cell_type": "code",
   "execution_count": 29,
   "metadata": {
    "collapsed": false,
    "pycharm": {
     "name": "#%%\n"
    }
   },
   "outputs": [
    {
     "data": {
      "image/png": "[encoded data removed]",
      "text/plain": [
       "<Figure size 432x288 with 1 Axes>"
      ]
     },
     "metadata": {
      "needs_background": "light"
     },
     "output_type": "display_data"
    }
   ],
   "source": [
    "SingularValues = np.squeeze(np.asarray(tfidfMatrix_reduced.singular_values_))\n",
    "SingularValues = np.sort(SingularValues)[::-1]\n",
    "\n",
    "plt.plot(SingularValues)\n",
    "plt.title(\"Singular Values of TFIDF Matrix\")\n",
    "plt.ylabel(\"Component\")\n",
    "plt.show()"
   ]
  },
  {
   "cell_type": "markdown",
   "metadata": {},
   "source": [
    "*Optional*: Plot the cumulative sum of the explained variance ratio. This will show you the total percentage of variance of the original matrix (y-axis) that you will capture in the reduced form matrix of size *n* components (x-axis).\n",
    "\n",
    "*I find this to be a more interpretable version of the same information presented in the previous plot.*\n",
    "\n",
    "*Hint: Look at the np.cumsum() function.*"
   ]
  },
  {
   "cell_type": "code",
   "execution_count": 30,
   "metadata": {},
   "outputs": [
    {
     "data": {
      "image/png": "[encoded data removed]",
      "text/plain": [
       "<Figure size 432x288 with 1 Axes>"
      ]
     },
     "metadata": {
      "needs_background": "light"
     },
     "output_type": "display_data"
    }
   ],
   "source": [
    "CVariance = np.squeeze(np.asarray(tfidfMatrix_reduced.explained_variance_ratio_))\n",
    "CVariance = np.sort(CVariance)[::1]\n",
    "sum=np.cumsum(CVariance)\n",
    "\n",
    "plt.plot(sum)\n",
    "plt.title(\"Cumulative Sum\")\n",
    "plt.xlabel(\"Component\")\n",
    "plt.show()"
   ]
  },
  {
   "cell_type": "markdown",
   "metadata": {
    "collapsed": false,
    "pycharm": {
     "name": "#%% md\n"
    }
   },
   "source": [
    "3. Choose what you think is an appropriate number of components based on the above plot."
   ]
  },
  {
   "cell_type": "code",
   "execution_count": 31,
   "metadata": {
    "collapsed": false,
    "pycharm": {
     "name": "#%%\n"
    }
   },
   "outputs": [],
   "source": [
    "k = 200"
   ]
  },
  {
   "cell_type": "markdown",
   "metadata": {
    "collapsed": false,
    "pycharm": {
     "name": "#%% md\n"
    }
   },
   "source": [
    "#### Part B - Compute the reduced form of the TF-IDF matrix\n",
    "\n",
    "Recompute the SVD of the TF-IDF matrix with your selected number of components and transform the result to the reduced dimension matrix."
   ]
  },
  {
   "cell_type": "code",
   "execution_count": 32,
   "metadata": {
    "collapsed": false,
    "pycharm": {
     "name": "#%%\n"
    }
   },
   "outputs": [],
   "source": [
    "ksvd = TruncatedSVD(n_components = k)\n",
    "kReducedMatrix = ksvd.fit(tfidfMatrix)"
   ]
  },
  {
   "cell_type": "markdown",
   "metadata": {
    "collapsed": false,
    "pycharm": {
     "name": "#%% md\n"
    }
   },
   "source": [
    "**Question: What is the total percentage of explained variance of the reduced-dimension matrix?**\n",
    "\n",
    "*To get the total explained variance percentage of the approximated matrix, compute the sum of explained variance over each individual component in the matrix.*"
   ]
  },
  {
   "cell_type": "code",
   "execution_count": 39,
   "metadata": {
    "collapsed": false,
    "pycharm": {
     "name": "#%%\n"
    }
   },
   "outputs": [
    {
     "name": "stdout",
     "output_type": "stream",
     "text": [
      "0.34432883505018097\n"
     ]
    }
   ],
   "source": [
    "KVariance = np.squeeze(np.asarray(kReducedMatrix.explained_variance_))\n",
    "KVariance = np.sort(KVariance)[::1]\n",
    "sum=np.sum(KVariance)\n",
    "\n",
    "print(sum)"
   ]
  },
  {
   "cell_type": "markdown",
   "metadata": {
    "collapsed": false,
    "pycharm": {
     "name": "#%% md\n"
    }
   },
   "source": [
    "#### Part C - Unnormalized vs. Normalized, Features vs. Samples\n",
    "\n",
    "There are many different ways to re-scale or normalize data. Most often, empirical testing is the best way to determine what normalization technique is appropriate for a given application.\n",
    "\n",
    "- The **Normalizer()** class or **normalize** function provides normalization across *samples* (rows).\n",
    "- The **StandardScaler()** class provides standardizing across *features* (columns).\n",
    "\n",
    "Choose *at least one* of the techniques above. Compute a re-scaled version of the data matrix for comparison against the unnormalized version."
   ]
  },
  {
   "cell_type": "code",
   "execution_count": 48,
   "metadata": {},
   "outputs": [
    {
     "name": "stdout",
     "output_type": "stream",
     "text": [
      "  (0, 1038)\t18.687672356221515\n",
      "  (0, 4081)\t18.44883634814857\n",
      "  (0, 7885)\t18.687672356221515\n",
      "  (1, 825)\t4.346284594741246\n",
      "  (1, 9245)\t1.5395094907026297\n",
      "  (1, 8063)\t12.94095388675239\n",
      "  (1, 9827)\t11.173198658208129\n",
      "  (1, 106)\t42.27999259833932\n",
      "  (1, 1229)\t11.117012634422558\n",
      "  (1, 4691)\t15.294875520315841\n",
      "  (1, 7807)\t83.56130228785928\n",
      "  (1, 5865)\t88.04962170103875\n",
      "  (1, 1923)\t1.455647823446137\n",
      "  (1, 182)\t14.112245818681522\n",
      "  (1, 5864)\t99.43498429137118\n",
      "  (2, 1205)\t81.70475394069389\n",
      "  (2, 3311)\t12.867390249534743\n",
      "  (2, 4465)\t17.1401350898732\n",
      "  (2, 594)\t25.821738155939396\n",
      "  (2, 4714)\t19.48137723894113\n",
      "  (2, 8583)\t47.72117949502572\n",
      "  (2, 6622)\t7.798623977859047\n",
      "  (2, 3461)\t53.57636960227404\n",
      "  (2, 8560)\t7.127250109104694\n",
      "  (2, 2066)\t31.86088190419677\n",
      "  :\t:\n",
      "  (40045, 4456)\t18.063077285738657\n",
      "  (40045, 9075)\t17.896510707323582\n",
      "  (40045, 5069)\t25.284495021197205\n",
      "  (40045, 5101)\t7.268259768536714\n",
      "  (40045, 5706)\t7.136620405047055\n",
      "  (40045, 5571)\t6.902809445436096\n",
      "  (40045, 4187)\t3.7322377667275224\n",
      "  (40045, 5691)\t6.499984547150986\n",
      "  (40045, 6954)\t8.898056422847882\n",
      "  (40045, 9110)\t13.541004775221973\n",
      "  (40046, 3992)\t115.93711191130505\n",
      "  (40046, 6564)\t27.537637165337056\n",
      "  (40046, 9245)\t3.055667930722137\n",
      "  (40046, 1923)\t2.8892165974889776\n",
      "  (40047, 2625)\t18.801366955366944\n",
      "  (40047, 6265)\t32.51957140375247\n",
      "  (40047, 3239)\t45.4757570052073\n",
      "  (40047, 7019)\t51.44975015457133\n",
      "  (40047, 2447)\t64.0908082898908\n",
      "  (40047, 6609)\t20.290673817378973\n",
      "  (40047, 7364)\t82.79881445742097\n",
      "  (40047, 3496)\t24.262728115121263\n",
      "  (40047, 1032)\t28.771826283442344\n",
      "  (40047, 9283)\t1.7728039807164375\n",
      "  (40047, 9245)\t1.4880628813638481\n"
     ]
    }
   ],
   "source": [
    "from sklearn.preprocessing import StandardScaler\n",
    "\n",
    "Scalar = StandardScaler(with_mean=False)\n",
    "\n",
    "StandardScalarMatrix = Scalar.fit_transform(tfidfMatrix)\n",
    "\n",
    "print(StandardScalarMatrix)"
   ]
  },
  {
   "cell_type": "code",
   "execution_count": 46,
   "metadata": {
    "collapsed": false,
    "pycharm": {
     "name": "#%%\n"
    }
   },
   "outputs": [
    {
     "name": "stdout",
     "output_type": "stream",
     "text": [
      "  (0, 1038)\t0.5778344685092858\n",
      "  (0, 4081)\t0.576380650269579\n",
      "  (0, 7885)\t0.5778344685092858\n",
      "  (1, 825)\t0.16749831738178408\n",
      "  (1, 9245)\t0.10310635872180988\n",
      "  (1, 8063)\t0.2624662017149318\n",
      "  (1, 9827)\t0.2541788114531052\n",
      "  (1, 106)\t0.3556010944301713\n",
      "  (1, 1229)\t0.2574062885283459\n",
      "  (1, 4691)\t0.2675402751497699\n",
      "  (1, 7807)\t0.3950285735713395\n",
      "  (1, 5865)\t0.39997799108472054\n",
      "  (1, 1923)\t0.09658256686784182\n",
      "  (1, 182)\t0.26148204712350215\n",
      "  (1, 5864)\t0.41206681762704633\n",
      "  (2, 1205)\t0.41591073196557404\n",
      "  (2, 3311)\t0.2618371906571486\n",
      "  (2, 4465)\t0.2802676113372871\n",
      "  (2, 594)\t0.3142958181546257\n",
      "  (2, 4714)\t0.291021499421615\n",
      "  (2, 8583)\t0.3646505369023985\n",
      "  (2, 6622)\t0.242675298215538\n",
      "  (2, 3461)\t0.3776760782555147\n",
      "  (2, 8560)\t0.2156617359527344\n",
      "  (2, 2066)\t0.33974066779973955\n",
      "  :\t:\n",
      "  (40045, 4456)\t0.24432861264080458\n",
      "  (40045, 9075)\t0.2448458577913607\n",
      "  (40045, 5069)\t0.26608393144894954\n",
      "  (40045, 5101)\t0.2962202666328774\n",
      "  (40045, 5706)\t0.1895731738462136\n",
      "  (40045, 5571)\t0.18348819036700717\n",
      "  (40045, 4187)\t0.15474066435471498\n",
      "  (40045, 5691)\t0.17667846661503248\n",
      "  (40045, 6954)\t0.20530210756402262\n",
      "  (40045, 9110)\t0.22536704264909457\n",
      "  (40046, 3992)\t0.7752777571178644\n",
      "  (40046, 6564)\t0.5659631623741409\n",
      "  (40046, 9245)\t0.2046488155496689\n",
      "  (40046, 1923)\t0.19170018374501635\n",
      "  (40047, 2625)\t0.28402362192418545\n",
      "  (40047, 6265)\t0.31925908862365077\n",
      "  (40047, 3239)\t0.3584579975820695\n",
      "  (40047, 7019)\t0.3493945255058085\n",
      "  (40047, 2447)\t0.3584579975820695\n",
      "  (40047, 6609)\t0.2941154331316751\n",
      "  (40047, 7364)\t0.39203538810029387\n",
      "  (40047, 3496)\t0.29463953364334194\n",
      "  (40047, 1032)\t0.29736654588682654\n",
      "  (40047, 9283)\t0.11391305591156257\n",
      "  (40047, 9245)\t0.09966079856804672\n"
     ]
    }
   ],
   "source": [
    "from sklearn.preprocessing import Normalizer\n",
    "\n",
    "norm = Normalizer(copy=False)\n",
    "\n",
    "NormMatrix = norm.fit_transform(tfidfMatrix)\n",
    "\n",
    "print(NormMatrix)"
   ]
  },
  {
   "cell_type": "markdown",
   "metadata": {
    "collapsed": false,
    "pycharm": {
     "name": "#%% md\n"
    }
   },
   "source": [
    "## Part 4 - Clustering and Topic Modeling (30 pts)\n",
    "\n",
    "Cluster the documents using the K-means algorithm, and examine the top terms associated with each cluster.\n",
    "\n",
    "#### Part A: Determine an appropriate k-value\n",
    "\n",
    "1. Run k-means for a series of reasonable k-values. Store the sum of squared distances of samples to their closest cluster center (available from the fitted sklearn estimator) for each k-value.\n",
    "2. Plot the sum of squared distances vs k-value.\n",
    "3. Determine what you think to be an appropriate value for k.\n",
    "\n",
    "*To save a little compute, you can set n_init = 1 for the Kmeans estimator for this step.*\n",
    "\n",
    "*Note: In my testing, the \"elbow\" curve in this case does not have a very good bend. Just use your best judgement to determine an appropriate k-value.*"
   ]
  },
  {
   "cell_type": "code",
   "execution_count": null,
   "metadata": {
    "collapsed": false,
    "pycharm": {
     "name": "#%%\n"
    }
   },
   "outputs": [],
   "source": []
  },
  {
   "cell_type": "markdown",
   "metadata": {
    "collapsed": false,
    "pycharm": {
     "name": "#%% md\n"
    }
   },
   "source": [
    "#### Part B: Cluster the document matrix\n",
    "\n",
    "Fit a K-means estimator with your selected number of clusters to the **unnormalized**, reduced-dimension document matrix."
   ]
  },
  {
   "cell_type": "code",
   "execution_count": null,
   "metadata": {},
   "outputs": [],
   "source": []
  },
  {
   "cell_type": "markdown",
   "metadata": {
    "collapsed": false,
    "pycharm": {
     "name": "#%%\n"
    }
   },
   "source": [
    "Fit a K-means estimator with your selected number of clusters to the **normalized**, reduced-dimension document matrix."
   ]
  },
  {
   "cell_type": "code",
   "execution_count": null,
   "metadata": {},
   "outputs": [],
   "source": []
  },
  {
   "cell_type": "markdown",
   "metadata": {
    "collapsed": false,
    "pycharm": {
     "name": "#%% md\n"
    }
   },
   "source": [
    "#### Part C: Cluster analysis\n",
    "\n",
    "The function below will print out the top *n* words associated with each cluster centroid. The function requires the fitted sklearn estimators for TF-IDF, SVD, and K-means.\n",
    "\n",
    "Print out the top terms associated with each cluster centroid generated from our data."
   ]
  },
  {
   "cell_type": "code",
   "execution_count": 33,
   "metadata": {
    "collapsed": false,
    "pycharm": {
     "name": "#%%\n"
    }
   },
   "outputs": [],
   "source": [
    "from sklearn.feature_extraction.text import TfidfVectorizer\n",
    "from sklearn.decomposition import TruncatedSVD\n",
    "from sklearn.cluster import KMeans\n",
    "\n",
    "def get_top_terms_per_cluster(vectorizer: TfidfVectorizer, svd: TruncatedSVD, kmeans: KMeans, n_terms: int = 20):\n",
    "    original_space_centroids = svd.inverse_transform(kmeans.cluster_centers_)\n",
    "    cluster_word_indices = original_space_centroids.argsort()[:, :-(n_terms+1):-1]\n",
    "\n",
    "    terms = vectorizer.get_feature_names_out()\n",
    "\n",
    "    print('Top terms per cluster:')\n",
    "    for cluster_num, word_indices in enumerate(cluster_word_indices):\n",
    "        print(f'Cluster {cluster_num}:')\n",
    "        for i in word_indices:\n",
    "            print(f'\\t{terms[i]}')\n",
    "        print()"
   ]
  },
  {
   "cell_type": "code",
   "execution_count": null,
   "metadata": {},
   "outputs": [],
   "source": []
  },
  {
   "cell_type": "markdown",
   "metadata": {},
   "source": [
    "**Question: Choose three clusters from your results above on the dataset. Based on the top *n* terms, what general topic describes each cluster?**"
   ]
  },
  {
   "cell_type": "code",
   "execution_count": null,
   "metadata": {
    "collapsed": false,
    "pycharm": {
     "name": "#%%\n"
    }
   },
   "outputs": [],
   "source": []
  },
  {
   "cell_type": "markdown",
   "metadata": {},
   "source": [
    "**Question: How do the clusters differ between the unnormalized and normalized data matrices?**"
   ]
  },
  {
   "cell_type": "code",
   "execution_count": null,
   "metadata": {},
   "outputs": [],
   "source": []
  },
  {
   "cell_type": "markdown",
   "metadata": {
    "collapsed": false,
    "pycharm": {
     "name": "#%% md\n"
    }
   },
   "source": [
    "***\n",
    "\n",
    "# Section II. Community Detection on Social Networks (60 pts)\n",
    "\n",
    "*Degree Centrality, PageRank, Community Detection, and Partition Quality*\n",
    "\n",
    "In this section, you will compute PageRank on a social network to determine the most \"influential\" nodes in the network. You will also perform community detection to identify clusters (communities) of nodes in the network."
   ]
  },
  {
   "cell_type": "markdown",
   "metadata": {
    "collapsed": false,
    "pycharm": {
     "name": "#%% md\n"
    }
   },
   "source": [
    "## Part 1: Load data and construct graph (10 pts)\n",
    "\n",
    "The data are stored in an edgelist file. Use the networkx *read_edgelist()* function to read the file into a networkx Graph object."
   ]
  },
  {
   "cell_type": "code",
   "execution_count": null,
   "metadata": {
    "collapsed": false,
    "pycharm": {
     "name": "#%%\n"
    }
   },
   "outputs": [],
   "source": []
  },
  {
   "cell_type": "markdown",
   "metadata": {
    "collapsed": false,
    "pycharm": {
     "name": "#%% md\n"
    }
   },
   "source": [
    "Print the total number of nodes and edges in the network."
   ]
  },
  {
   "cell_type": "code",
   "execution_count": null,
   "metadata": {
    "collapsed": false,
    "pycharm": {
     "name": "#%%\n"
    }
   },
   "outputs": [],
   "source": []
  },
  {
   "cell_type": "markdown",
   "metadata": {
    "collapsed": false,
    "pycharm": {
     "name": "#%% md\n"
    }
   },
   "source": [
    "## Part 2: Degree Centrality and PageRank (20 pts)\n",
    "\n",
    "*Note: Due to Twitter's TOS, I had to anonymize users in the graph, so we can't go beyond determining the most influential nodes. Generally, we would conduct further analysis to investigate the top nodes returned by these centrality metrics.*\n",
    "\n",
    "There are many centrality metrics out there for measuring the most \"important\" nodes in a network. For this analysis, we will use degree centrality and PageRank (akin to eigenvector centrality).\n",
    "\n",
    "#### Part A: Degree centrality\n",
    "\n",
    "1. Compute the degree centrality for all nodes in the graph.\n",
    "2. Print out the top 20 nodes with the highest degree centrality."
   ]
  },
  {
   "cell_type": "code",
   "execution_count": null,
   "metadata": {
    "collapsed": false,
    "pycharm": {
     "name": "#%%\n"
    }
   },
   "outputs": [],
   "source": []
  },
  {
   "cell_type": "markdown",
   "metadata": {
    "collapsed": false,
    "pycharm": {
     "name": "#%% md\n"
    }
   },
   "source": [
    "#### Part B: PageRank\n",
    "\n",
    "1. Compute PageRank for all nodes in the graph.\n",
    "2. Print out the top 20 with the highest PageRank."
   ]
  },
  {
   "cell_type": "code",
   "execution_count": null,
   "metadata": {
    "collapsed": false,
    "pycharm": {
     "name": "#%%\n"
    }
   },
   "outputs": [],
   "source": []
  },
  {
   "cell_type": "markdown",
   "metadata": {
    "collapsed": false,
    "pycharm": {
     "name": "#%% md\n"
    }
   },
   "source": [
    "**Question: Is the set of top nodes the same for both centrality metrics?**\n",
    "\n",
    "*Optional: Test a few other centrality metrics or the HITS algorithm. What nodes are the most important based on these metrics?*"
   ]
  },
  {
   "cell_type": "code",
   "execution_count": null,
   "metadata": {
    "collapsed": false,
    "pycharm": {
     "name": "#%%\n"
    }
   },
   "outputs": [],
   "source": []
  },
  {
   "cell_type": "markdown",
   "metadata": {
    "collapsed": false,
    "pycharm": {
     "name": "#%% md\n"
    }
   },
   "source": [
    "## Part 3: Community Detection (30 pts)\n",
    "\n",
    "Cluster the nodes in the network into communities using a modularity-based approach and a label propagation-based approach. As community detection is an unsupervised problem, one of the major challenges is evaluating the quality of a graph partition generated by a clustering algorithm.\n",
    "\n",
    "Networkx provides two metrics for measuring the quality of a partition into communities.\n",
    "- Modularity.\n",
    "- Partition Quality (a composite of *coverage* and *performance* of a partition).\n",
    "\n",
    "#### Part A: Greedy modularity maximization\n",
    "\n",
    "1. Run the greedy modularity community detection algorithm on the network.\n",
    "2. Compute the **modularity** and **partition quality** for the clustering result.\n",
    "\n",
    "*Note: This can take several minutes to run. For reference, it took about ~1.5 minutes on my computer.*"
   ]
  },
  {
   "cell_type": "code",
   "execution_count": null,
   "metadata": {
    "collapsed": false,
    "pycharm": {
     "name": "#%%\n"
    }
   },
   "outputs": [],
   "source": []
  },
  {
   "cell_type": "markdown",
   "metadata": {
    "collapsed": false,
    "pycharm": {
     "name": "#%% md\n"
    }
   },
   "source": [
    "Greedy-Mod clustering will return clusters in decreasing size.\n",
    "\n",
    "3. Plot the size of clusters. (The curve should be a familiar shape).\n",
    "\n",
    "**Question: How many total clusters did the modularity-based approach produce? What are the sizes of the top 10 clusters?**"
   ]
  },
  {
   "cell_type": "code",
   "execution_count": null,
   "metadata": {},
   "outputs": [],
   "source": []
  },
  {
   "cell_type": "markdown",
   "metadata": {
    "collapsed": false,
    "pycharm": {
     "name": "#%% md\n"
    }
   },
   "source": [
    "#### Part B: Label propagation method\n",
    "\n",
    "(I would have liked to use the Girvan-Newman method since that is discussed more in the slides, but its scaling is very poor and 10,000 nodes is the upper limit of what's reasonable for that algorithm.)\n",
    "\n",
    "Another semi-supervised method (used for many things besides community detection) is label propagation. In the label propagation algorithm, each node is initially assigned to a unique community label. At each step in the algorithm, the labels of every node are propagated to their neighbors, and each node's label is updated as the most frequent label of all its neighbors. The algorithm terminates when the labels converge, i.e. no nodes change labels from one iteration to the next.\n",
    "\n",
    "1. Run the label propagation community detection algorithm on the network.\n",
    "2. Compute the **modularity** and **partition quality** for the clustering result."
   ]
  },
  {
   "cell_type": "code",
   "execution_count": null,
   "metadata": {
    "collapsed": false,
    "pycharm": {
     "name": "#%%\n"
    }
   },
   "outputs": [],
   "source": []
  },
  {
   "cell_type": "markdown",
   "metadata": {
    "collapsed": false,
    "pycharm": {
     "name": "#%% md\n"
    }
   },
   "source": [
    "*Note: Label propagation does not return communities in sorted order like greedy mod. You will need to sort the communities by size first.*\n",
    "\n",
    "3. Plot the size of clusters.\n",
    "\n",
    "**Question: How many clusters did the label propagation-based approach produce? What are the sizes of the top 10 clusters?**"
   ]
  },
  {
   "cell_type": "code",
   "execution_count": null,
   "metadata": {
    "collapsed": false,
    "pycharm": {
     "name": "#%%\n"
    }
   },
   "outputs": [],
   "source": []
  },
  {
   "cell_type": "markdown",
   "metadata": {
    "collapsed": false,
    "pycharm": {
     "name": "#%% md\n"
    }
   },
   "source": [
    "**Question: Which method produced a node partition with the higher modularity? Which produced the partition with the higher partition quality?**"
   ]
  },
  {
   "cell_type": "code",
   "execution_count": null,
   "metadata": {
    "collapsed": false,
    "pycharm": {
     "name": "#%%\n"
    }
   },
   "outputs": [],
   "source": []
  },
  {
   "cell_type": "markdown",
   "metadata": {},
   "source": [
    "**Question: Considering both the differences in clustering quality and runtime complexity, which community detection method would you prefer for analysis of large graphs?**"
   ]
  },
  {
   "cell_type": "code",
   "execution_count": null,
   "metadata": {},
   "outputs": [],
   "source": []
  }
 ],
 "metadata": {
  "kernelspec": {
   "display_name": "Python 3.10.4 ('env')",
   "language": "python",
   "name": "python3"
  },
  "language_info": {
   "codemirror_mode": {
    "name": "ipython",
    "version": 3
   },
   "file_extension": ".py",
   "mimetype": "text/x-python",
   "name": "python",
   "nbconvert_exporter": "python",
   "pygments_lexer": "ipython3",
   "version": "3.10.4"
  },
  "vscode": {
   "interpreter": {
    "hash": "3eab7c396b51b7071d1094edd1cbe084a182a8e12265181279d2faac524f1d07"
   }
  }
 },
 "nbformat": 4,
 "nbformat_minor": 0
}
